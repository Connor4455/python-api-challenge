{
 "cells": [
  {
   "cell_type": "markdown",
   "metadata": {},
   "source": [
    "# WeatherPy\n",
    "\n",
    "---\n",
    "\n",
    "## Starter Code to Generate Random Geographic Coordinates and a List of Cities"
   ]
  },
  {
   "cell_type": "code",
   "execution_count": 1,
   "metadata": {
    "scrolled": true
   },
   "outputs": [],
   "source": [
    "# Dependencies and Setup\n",
    "import matplotlib.pyplot as plt\n",
    "import pandas as pd\n",
    "import numpy as np\n",
    "import requests\n",
    "import time\n",
    "from scipy.stats import linregress\n",
    "\n",
    "# Impor the OpenWeatherMap API key\n",
    "from api_keys import weather_api_key\n",
    "\n",
    "# Import citipy to determine the cities based on latitude and longitude\n",
    "from citipy import citipy"
   ]
  },
  {
   "cell_type": "markdown",
   "metadata": {},
   "source": [
    "### Generate the Cities List by Using the `citipy` Library"
   ]
  },
  {
   "cell_type": "code",
   "execution_count": 2,
   "metadata": {},
   "outputs": [
    {
     "name": "stdout",
     "output_type": "stream",
     "text": [
      "Number of cities in the list: 595\n"
     ]
    }
   ],
   "source": [
    "# Empty list for holding the latitude and longitude combinations\n",
    "lat_lngs = []\n",
    "\n",
    "# Empty list for holding the cities names\n",
    "cities = []\n",
    "\n",
    "# Range of latitudes and longitudes\n",
    "lat_range = (-90, 90)\n",
    "lng_range = (-180, 180)\n",
    "\n",
    "# Create a set of random lat and lng combinations\n",
    "lats = np.random.uniform(lat_range[0], lat_range[1], size=1500)\n",
    "lngs = np.random.uniform(lng_range[0], lng_range[1], size=1500)\n",
    "lat_lngs = zip(lats, lngs)\n",
    "\n",
    "# Identify nearest city for each lat, lng combination\n",
    "for lat_lng in lat_lngs:\n",
    "    city = citipy.nearest_city(lat_lng[0], lat_lng[1]).city_name\n",
    "    \n",
    "    # If the city is unique, then add it to a our cities list\n",
    "    if city not in cities:\n",
    "        cities.append(city)\n",
    "\n",
    "# Print the city count to confirm sufficient count\n",
    "print(f\"Number of cities in the list: {len(cities)}\")"
   ]
  },
  {
   "cell_type": "markdown",
   "metadata": {},
   "source": [
    "---"
   ]
  },
  {
   "cell_type": "markdown",
   "metadata": {},
   "source": [
    "## Requirement 1: Create Plots to Showcase the Relationship Between Weather Variables and Latitude\n",
    "\n",
    "### Use the OpenWeatherMap API to retrieve weather data from the cities list generated in the started code"
   ]
  },
  {
   "cell_type": "code",
   "execution_count": 8,
   "metadata": {},
   "outputs": [
    {
     "name": "stdout",
     "output_type": "stream",
     "text": [
      "Beginning Data Retrieval     \n",
      "-----------------------------\n",
      "Processing Record 1 of Set 1 | lompoc\n",
      "Processing Record 2 of Set 1 | jamestown\n",
      "Processing Record 3 of Set 1 | te anau\n",
      "Processing Record 4 of Set 1 | tucuman\n",
      "Processing Record 5 of Set 1 | bambous virieux\n",
      "Processing Record 6 of Set 1 | umzimvubu\n",
      "City not found. Skipping...\n",
      "Processing Record 7 of Set 1 | mataura\n",
      "Processing Record 8 of Set 1 | victoria\n",
      "Processing Record 9 of Set 1 | punta arenas\n",
      "Processing Record 10 of Set 1 | rikitea\n",
      "Processing Record 11 of Set 1 | srednekolymsk\n",
      "Processing Record 12 of Set 1 | puerto ayora\n",
      "Processing Record 13 of Set 1 | bluff\n",
      "Processing Record 14 of Set 1 | saldanha\n",
      "Processing Record 15 of Set 1 | cherskiy\n",
      "Processing Record 16 of Set 1 | hennenman\n",
      "Processing Record 17 of Set 1 | dwarka\n",
      "Processing Record 18 of Set 1 | hithadhoo\n",
      "Processing Record 19 of Set 1 | vaini\n",
      "Processing Record 20 of Set 1 | lebu\n",
      "Processing Record 21 of Set 1 | ushuaia\n",
      "Processing Record 22 of Set 1 | qaanaaq\n",
      "Processing Record 23 of Set 1 | mys shmidta\n",
      "City not found. Skipping...\n",
      "Processing Record 24 of Set 1 | mnogovershinnyy\n",
      "Processing Record 25 of Set 1 | mahibadhoo\n",
      "Processing Record 26 of Set 1 | new norfolk\n",
      "Processing Record 27 of Set 1 | menongue\n",
      "Processing Record 28 of Set 1 | bandarbeyla\n",
      "Processing Record 29 of Set 1 | tiksi\n",
      "Processing Record 30 of Set 1 | sobolevo\n",
      "Processing Record 31 of Set 1 | atuona\n",
      "Processing Record 32 of Set 1 | souillac\n",
      "Processing Record 33 of Set 1 | albany\n",
      "Processing Record 34 of Set 1 | comodoro rivadavia\n",
      "Processing Record 35 of Set 1 | castro\n",
      "Processing Record 36 of Set 1 | kununurra\n",
      "Processing Record 37 of Set 1 | tasiilaq\n",
      "Processing Record 38 of Set 1 | caravelas\n",
      "Processing Record 39 of Set 1 | port blair\n",
      "Processing Record 40 of Set 1 | hermanus\n",
      "Processing Record 41 of Set 1 | mahebourg\n",
      "Processing Record 42 of Set 1 | bengkulu\n",
      "Processing Record 43 of Set 1 | hobart\n",
      "Processing Record 44 of Set 1 | ponta do sol\n",
      "Processing Record 45 of Set 1 | nangong\n",
      "Processing Record 46 of Set 1 | mao\n",
      "Processing Record 47 of Set 1 | gat\n",
      "Processing Record 48 of Set 1 | vostok\n",
      "Processing Record 49 of Set 1 | panzhihua\n",
      "Processing Record 50 of Set 1 | broken hill\n",
      "Processing Record 0 of Set 2 | tautira\n",
      "Processing Record 1 of Set 2 | bethel\n",
      "Processing Record 2 of Set 2 | port alfred\n",
      "Processing Record 3 of Set 2 | bodden town\n",
      "Processing Record 4 of Set 2 | port elizabeth\n",
      "Processing Record 5 of Set 2 | illoqqortoormiut\n",
      "City not found. Skipping...\n",
      "Processing Record 6 of Set 2 | alofi\n",
      "Processing Record 7 of Set 2 | laguna\n",
      "Processing Record 8 of Set 2 | clyde river\n",
      "Processing Record 9 of Set 2 | busselton\n",
      "Processing Record 10 of Set 2 | paita\n",
      "Processing Record 11 of Set 2 | alta floresta\n",
      "Processing Record 12 of Set 2 | saskylakh\n",
      "Processing Record 13 of Set 2 | yabrud\n",
      "Processing Record 14 of Set 2 | mergui\n",
      "City not found. Skipping...\n",
      "Processing Record 15 of Set 2 | khatanga\n",
      "Processing Record 16 of Set 2 | labuhan\n",
      "Processing Record 17 of Set 2 | sentyabrskiy\n",
      "City not found. Skipping...\n",
      "Processing Record 18 of Set 2 | luangwa\n",
      "Processing Record 19 of Set 2 | hilo\n",
      "Processing Record 20 of Set 2 | bredasdorp\n",
      "Processing Record 21 of Set 2 | waipawa\n",
      "Processing Record 22 of Set 2 | dunedin\n",
      "Processing Record 23 of Set 2 | ribeira grande\n",
      "Processing Record 24 of Set 2 | clarksville\n",
      "Processing Record 25 of Set 2 | ciudad bolivar\n",
      "Processing Record 26 of Set 2 | xuddur\n",
      "Processing Record 27 of Set 2 | tongzi\n",
      "Processing Record 28 of Set 2 | baijiantan\n",
      "Processing Record 29 of Set 2 | saleaula\n",
      "City not found. Skipping...\n",
      "Processing Record 30 of Set 2 | saint george\n",
      "Processing Record 31 of Set 2 | tsihombe\n",
      "City not found. Skipping...\n",
      "Processing Record 32 of Set 2 | barrow\n",
      "Processing Record 33 of Set 2 | airai\n",
      "Processing Record 34 of Set 2 | norman wells\n",
      "Processing Record 35 of Set 2 | nouadhibou\n",
      "Processing Record 36 of Set 2 | arraial do cabo\n",
      "Processing Record 37 of Set 2 | belyy yar\n",
      "Processing Record 38 of Set 2 | sorland\n",
      "Processing Record 39 of Set 2 | kahului\n",
      "Processing Record 40 of Set 2 | eyl\n",
      "Processing Record 41 of Set 2 | tapa\n",
      "Processing Record 42 of Set 2 | sibu\n",
      "Processing Record 43 of Set 2 | krasnyy yar\n",
      "Processing Record 44 of Set 2 | hasaki\n",
      "Processing Record 45 of Set 2 | chuzhou\n",
      "Processing Record 46 of Set 2 | avarua\n",
      "Processing Record 47 of Set 2 | pevek\n",
      "Processing Record 48 of Set 2 | kodiak\n",
      "Processing Record 49 of Set 2 | saint-philippe\n",
      "Processing Record 0 of Set 3 | rio grande\n",
      "Processing Record 1 of Set 3 | taolanaro\n",
      "City not found. Skipping...\n",
      "Processing Record 2 of Set 3 | hualmay\n",
      "Processing Record 3 of Set 3 | wasilla\n",
      "Processing Record 4 of Set 3 | sisimiut\n",
      "Processing Record 5 of Set 3 | kruisfontein\n",
      "Processing Record 6 of Set 3 | nijar\n",
      "Processing Record 7 of Set 3 | olafsvik\n",
      "Processing Record 8 of Set 3 | zile\n",
      "Processing Record 9 of Set 3 | maridi\n",
      "Processing Record 10 of Set 3 | bastia\n",
      "Processing Record 11 of Set 3 | ruatoria\n",
      "City not found. Skipping...\n",
      "Processing Record 12 of Set 3 | wagar\n",
      "Processing Record 13 of Set 3 | andenes\n",
      "Processing Record 14 of Set 3 | petrolina de goias\n",
      "Processing Record 15 of Set 3 | buala\n",
      "Processing Record 16 of Set 3 | amderma\n",
      "City not found. Skipping...\n",
      "Processing Record 17 of Set 3 | inirida\n",
      "Processing Record 18 of Set 3 | kasungu\n",
      "Processing Record 19 of Set 3 | egvekinot\n",
      "Processing Record 20 of Set 3 | roald\n",
      "Processing Record 21 of Set 3 | dharchula\n",
      "Processing Record 22 of Set 3 | araxa\n",
      "Processing Record 23 of Set 3 | akonolinga\n",
      "Processing Record 24 of Set 3 | vila velha\n",
      "Processing Record 25 of Set 3 | torbay\n",
      "Processing Record 26 of Set 3 | nizhnevartovsk\n",
      "Processing Record 27 of Set 3 | faanui\n",
      "Processing Record 28 of Set 3 | sao filipe\n",
      "Processing Record 29 of Set 3 | cape town\n",
      "Processing Record 30 of Set 3 | esperance\n",
      "Processing Record 31 of Set 3 | vaitupu\n",
      "City not found. Skipping...\n",
      "Processing Record 32 of Set 3 | klaksvik\n",
      "Processing Record 33 of Set 3 | wenling\n",
      "Processing Record 34 of Set 3 | talnakh\n",
      "Processing Record 35 of Set 3 | avera\n",
      "Processing Record 36 of Set 3 | adrar\n",
      "Processing Record 37 of Set 3 | pontes e lacerda\n",
      "Processing Record 38 of Set 3 | shingu\n",
      "Processing Record 39 of Set 3 | galesong\n",
      "Processing Record 40 of Set 3 | kaeo\n",
      "Processing Record 41 of Set 3 | bonavista\n",
      "Processing Record 42 of Set 3 | vysokogornyy\n",
      "Processing Record 43 of Set 3 | fairmont\n",
      "Processing Record 44 of Set 3 | kud\n",
      "Processing Record 45 of Set 3 | bafq\n",
      "Processing Record 46 of Set 3 | luganville\n",
      "Processing Record 47 of Set 3 | cidreira\n",
      "Processing Record 48 of Set 3 | butaritari\n",
      "Processing Record 49 of Set 3 | leningradskiy\n",
      "Processing Record 0 of Set 4 | provideniya\n",
      "Processing Record 1 of Set 4 | beloha\n",
      "Processing Record 2 of Set 4 | dikson\n",
      "Processing Record 3 of Set 4 | grand gaube\n",
      "Processing Record 4 of Set 4 | bogorodskoye\n",
      "Processing Record 5 of Set 4 | tsienyane\n",
      "City not found. Skipping...\n",
      "Processing Record 6 of Set 4 | ancud\n",
      "Processing Record 7 of Set 4 | opuwo\n",
      "Processing Record 8 of Set 4 | soyo\n",
      "Processing Record 9 of Set 4 | dabra\n",
      "Processing Record 10 of Set 4 | bowen\n",
      "Processing Record 11 of Set 4 | honningsvag\n",
      "Processing Record 12 of Set 4 | bosaso\n",
      "Processing Record 13 of Set 4 | mar del plata\n",
      "Processing Record 14 of Set 4 | fortuna\n",
      "Processing Record 15 of Set 4 | narsaq\n",
      "Processing Record 16 of Set 4 | prince rupert\n",
      "Processing Record 17 of Set 4 | san cristobal\n",
      "Processing Record 18 of Set 4 | nyuksenitsa\n",
      "Processing Record 19 of Set 4 | yirol\n",
      "City not found. Skipping...\n",
      "Processing Record 20 of Set 4 | grindavik\n",
      "Processing Record 21 of Set 4 | barentsburg\n",
      "City not found. Skipping...\n",
      "Processing Record 22 of Set 4 | havre-saint-pierre\n",
      "Processing Record 23 of Set 4 | savonlinna\n",
      "Processing Record 24 of Set 4 | valdivia\n",
      "Processing Record 25 of Set 4 | ngukurr\n",
      "City not found. Skipping...\n",
      "Processing Record 26 of Set 4 | gamba\n",
      "Processing Record 27 of Set 4 | pochutla\n",
      "Processing Record 28 of Set 4 | sanchi\n",
      "Processing Record 29 of Set 4 | nhulunbuy\n",
      "Processing Record 30 of Set 4 | grand river south east\n",
      "City not found. Skipping...\n",
      "Processing Record 31 of Set 4 | tagusao\n",
      "Processing Record 32 of Set 4 | navalmoral de la mata\n",
      "Processing Record 33 of Set 4 | viedma\n",
      "Processing Record 34 of Set 4 | plouzane\n",
      "Processing Record 35 of Set 4 | nome\n",
      "Processing Record 36 of Set 4 | attawapiskat\n",
      "City not found. Skipping...\n",
      "Processing Record 37 of Set 4 | east london\n"
     ]
    },
    {
     "name": "stdout",
     "output_type": "stream",
     "text": [
      "Processing Record 38 of Set 4 | tibati\n",
      "Processing Record 39 of Set 4 | carnarvon\n",
      "Processing Record 40 of Set 4 | yellowknife\n",
      "Processing Record 41 of Set 4 | georgetown\n",
      "Processing Record 42 of Set 4 | samalaeulu\n",
      "City not found. Skipping...\n",
      "Processing Record 43 of Set 4 | saanen\n",
      "Processing Record 44 of Set 4 | ahipara\n",
      "Processing Record 45 of Set 4 | sur\n",
      "Processing Record 46 of Set 4 | dingle\n",
      "Processing Record 47 of Set 4 | taveta\n",
      "Processing Record 48 of Set 4 | challapata\n",
      "Processing Record 49 of Set 4 | severo-kurilsk\n",
      "Processing Record 0 of Set 5 | chokurdakh\n",
      "Processing Record 1 of Set 5 | newport\n",
      "Processing Record 2 of Set 5 | upernavik\n",
      "Processing Record 3 of Set 5 | kanye\n",
      "Processing Record 4 of Set 5 | guerrero negro\n",
      "Processing Record 5 of Set 5 | tromso\n",
      "Processing Record 6 of Set 5 | thompson\n",
      "Processing Record 7 of Set 5 | igarka\n",
      "Processing Record 8 of Set 5 | nabire\n",
      "Processing Record 9 of Set 5 | tarudant\n",
      "City not found. Skipping...\n",
      "Processing Record 10 of Set 5 | geraldton\n",
      "Processing Record 11 of Set 5 | novobiryusinskiy\n",
      "Processing Record 12 of Set 5 | saint-louis\n",
      "Processing Record 13 of Set 5 | sarkand\n",
      "Processing Record 14 of Set 5 | quang ngai\n",
      "Processing Record 15 of Set 5 | pisco\n",
      "Processing Record 16 of Set 5 | coxim\n",
      "Processing Record 17 of Set 5 | komsomolskiy\n",
      "Processing Record 18 of Set 5 | martapura\n",
      "Processing Record 19 of Set 5 | tuktoyaktuk\n",
      "Processing Record 20 of Set 5 | fare\n",
      "Processing Record 21 of Set 5 | marawi\n",
      "Processing Record 22 of Set 5 | faya\n",
      "Processing Record 23 of Set 5 | hutchinson\n",
      "Processing Record 24 of Set 5 | letpadan\n",
      "Processing Record 25 of Set 5 | cary\n",
      "Processing Record 26 of Set 5 | okhotsk\n",
      "Processing Record 27 of Set 5 | prainha\n",
      "Processing Record 28 of Set 5 | campos\n",
      "Processing Record 29 of Set 5 | sakaiminato\n",
      "Processing Record 30 of Set 5 | port hardy\n",
      "Processing Record 31 of Set 5 | vao\n",
      "Processing Record 32 of Set 5 | aleksandrov gay\n",
      "Processing Record 33 of Set 5 | altamira\n",
      "Processing Record 34 of Set 5 | marsh harbour\n",
      "Processing Record 35 of Set 5 | atambua\n",
      "Processing Record 36 of Set 5 | vega de alatorre\n",
      "Processing Record 37 of Set 5 | lata\n",
      "Processing Record 38 of Set 5 | san quintin\n",
      "Processing Record 39 of Set 5 | westport\n",
      "Processing Record 40 of Set 5 | portland\n",
      "Processing Record 41 of Set 5 | qaqortoq\n",
      "Processing Record 42 of Set 5 | vestmannaeyjar\n",
      "Processing Record 43 of Set 5 | terrace\n",
      "Processing Record 44 of Set 5 | lavrentiya\n",
      "Processing Record 45 of Set 5 | terrak\n",
      "Processing Record 46 of Set 5 | san diego de la union\n",
      "Processing Record 47 of Set 5 | sitka\n",
      "Processing Record 48 of Set 5 | vardo\n",
      "Processing Record 49 of Set 5 | cortes\n",
      "Processing Record 0 of Set 6 | abu dhabi\n",
      "Processing Record 1 of Set 6 | utiroa\n",
      "City not found. Skipping...\n",
      "Processing Record 2 of Set 6 | kongolo\n",
      "Processing Record 3 of Set 6 | fort saint james\n",
      "Processing Record 4 of Set 6 | wajima\n",
      "Processing Record 5 of Set 6 | boende\n",
      "Processing Record 6 of Set 6 | muros\n",
      "Processing Record 7 of Set 6 | ondorhaan\n",
      "City not found. Skipping...\n",
      "Processing Record 8 of Set 6 | half moon bay\n",
      "Processing Record 9 of Set 6 | tawau\n",
      "Processing Record 10 of Set 6 | saint combs\n",
      "City not found. Skipping...\n",
      "Processing Record 11 of Set 6 | webb city\n",
      "Processing Record 12 of Set 6 | namibe\n",
      "Processing Record 13 of Set 6 | taoudenni\n",
      "Processing Record 14 of Set 6 | hengshui\n",
      "Processing Record 15 of Set 6 | axim\n",
      "Processing Record 16 of Set 6 | cairns\n",
      "Processing Record 17 of Set 6 | sambava\n",
      "Processing Record 18 of Set 6 | juneau\n",
      "Processing Record 19 of Set 6 | nanortalik\n",
      "Processing Record 20 of Set 6 | kapaa\n",
      "Processing Record 21 of Set 6 | alyangula\n",
      "Processing Record 22 of Set 6 | warrington\n",
      "Processing Record 23 of Set 6 | tenenkou\n",
      "Processing Record 24 of Set 6 | waingapu\n",
      "Processing Record 25 of Set 6 | khandagayty\n",
      "Processing Record 26 of Set 6 | isabela\n",
      "Processing Record 27 of Set 6 | deputatskiy\n",
      "Processing Record 28 of Set 6 | wick\n",
      "Processing Record 29 of Set 6 | paragominas\n",
      "Processing Record 30 of Set 6 | saint-augustin\n",
      "Processing Record 31 of Set 6 | la rioja\n",
      "Processing Record 32 of Set 6 | odweyne\n",
      "Processing Record 33 of Set 6 | rawson\n",
      "Processing Record 34 of Set 6 | srandakan\n",
      "Processing Record 35 of Set 6 | batagay\n",
      "Processing Record 36 of Set 6 | mayenne\n",
      "Processing Record 37 of Set 6 | saint-paul\n",
      "Processing Record 38 of Set 6 | lufilufi\n",
      "Processing Record 39 of Set 6 | batagay-alyta\n",
      "Processing Record 40 of Set 6 | khed brahma\n",
      "Processing Record 41 of Set 6 | bathsheba\n",
      "Processing Record 42 of Set 6 | araouane\n",
      "Processing Record 43 of Set 6 | nikolskoye\n",
      "Processing Record 44 of Set 6 | coquimbo\n",
      "Processing Record 45 of Set 6 | longyearbyen\n",
      "Processing Record 46 of Set 6 | ilhabela\n",
      "Processing Record 47 of Set 6 | aflu\n",
      "City not found. Skipping...\n",
      "Processing Record 48 of Set 6 | muskegon\n",
      "Processing Record 49 of Set 6 | pilao arcado\n",
      "City not found. Skipping...\n",
      "Processing Record 0 of Set 7 | kiama\n",
      "Processing Record 1 of Set 7 | dong xoai\n",
      "Processing Record 2 of Set 7 | shebunino\n",
      "Processing Record 3 of Set 7 | chulman\n",
      "Processing Record 4 of Set 7 | san patricio\n",
      "Processing Record 5 of Set 7 | ust-ilimsk\n",
      "Processing Record 6 of Set 7 | cabo san lucas\n",
      "Processing Record 7 of Set 7 | bilibino\n",
      "Processing Record 8 of Set 7 | lumut\n",
      "Processing Record 9 of Set 7 | presidente medici\n",
      "Processing Record 10 of Set 7 | kuching\n",
      "Processing Record 11 of Set 7 | mandalgovi\n",
      "Processing Record 12 of Set 7 | lolua\n",
      "City not found. Skipping...\n",
      "Processing Record 13 of Set 7 | mamallapuram\n",
      "Processing Record 14 of Set 7 | nizhneyansk\n",
      "City not found. Skipping...\n",
      "Processing Record 15 of Set 7 | porto santo\n",
      "Processing Record 16 of Set 7 | yining\n",
      "Processing Record 17 of Set 7 | pokhara\n",
      "Processing Record 18 of Set 7 | fort nelson\n",
      "Processing Record 19 of Set 7 | toora-khem\n",
      "Processing Record 20 of Set 7 | ouallam\n",
      "Processing Record 21 of Set 7 | kavieng\n",
      "Processing Record 22 of Set 7 | mujiayingzi\n",
      "Processing Record 23 of Set 7 | mareeba\n",
      "Processing Record 24 of Set 7 | uarini\n",
      "Processing Record 25 of Set 7 | cumaribo\n",
      "City not found. Skipping...\n",
      "Processing Record 26 of Set 7 | yaan\n",
      "Processing Record 27 of Set 7 | maneromango\n",
      "Processing Record 28 of Set 7 | bima\n",
      "Processing Record 29 of Set 7 | rolla\n",
      "Processing Record 30 of Set 7 | wattegama\n",
      "Processing Record 31 of Set 7 | cabatuan\n",
      "Processing Record 32 of Set 7 | roanoke rapids\n",
      "Processing Record 33 of Set 7 | berezovyy\n",
      "Processing Record 34 of Set 7 | zhigansk\n",
      "Processing Record 35 of Set 7 | ayorou\n",
      "Processing Record 36 of Set 7 | depalpur\n",
      "Processing Record 37 of Set 7 | xichang\n",
      "Processing Record 38 of Set 7 | katsuura\n",
      "Processing Record 39 of Set 7 | mathbaria\n",
      "Processing Record 40 of Set 7 | daru\n",
      "Processing Record 41 of Set 7 | nishihara\n",
      "Processing Record 42 of Set 7 | lososina\n",
      "Processing Record 43 of Set 7 | yatou\n",
      "Processing Record 44 of Set 7 | touba\n",
      "Processing Record 45 of Set 7 | olot\n",
      "Processing Record 46 of Set 7 | mangan\n",
      "Processing Record 47 of Set 7 | nguiu\n",
      "City not found. Skipping...\n",
      "Processing Record 48 of Set 7 | waddan\n",
      "Processing Record 49 of Set 7 | ariquemes\n",
      "Processing Record 0 of Set 8 | nemuro\n",
      "Processing Record 1 of Set 8 | kapit\n",
      "Processing Record 2 of Set 8 | bolungarvik\n",
      "City not found. Skipping...\n",
      "Processing Record 3 of Set 8 | parrita\n",
      "Processing Record 4 of Set 8 | alvaraes\n",
      "Processing Record 5 of Set 8 | miri\n",
      "Processing Record 6 of Set 8 | ankpa\n",
      "Processing Record 7 of Set 8 | zlobin\n",
      "Processing Record 8 of Set 8 | saurimo\n",
      "Processing Record 9 of Set 8 | chuy\n",
      "Processing Record 10 of Set 8 | mazagao\n",
      "Processing Record 11 of Set 8 | solnechnyy\n",
      "Processing Record 12 of Set 8 | tanete\n",
      "Processing Record 13 of Set 8 | oyama\n",
      "Processing Record 14 of Set 8 | banda aceh\n",
      "Processing Record 15 of Set 8 | kismayo\n",
      "Processing Record 16 of Set 8 | nioro\n",
      "Processing Record 17 of Set 8 | noumea\n",
      "Processing Record 18 of Set 8 | keffi\n",
      "Processing Record 19 of Set 8 | saint-joseph\n",
      "Processing Record 20 of Set 8 | minab\n",
      "Processing Record 21 of Set 8 | chagda\n",
      "City not found. Skipping...\n",
      "Processing Record 22 of Set 8 | linhares\n",
      "Processing Record 23 of Set 8 | chapais\n",
      "Processing Record 24 of Set 8 | talah\n",
      "City not found. Skipping...\n",
      "Processing Record 25 of Set 8 | gongzhuling\n",
      "Processing Record 26 of Set 8 | doctor pedro p. pena\n",
      "City not found. Skipping...\n",
      "Processing Record 27 of Set 8 | camopi\n"
     ]
    },
    {
     "name": "stdout",
     "output_type": "stream",
     "text": [
      "Processing Record 28 of Set 8 | hervey bay\n",
      "Processing Record 29 of Set 8 | vila franca do campo\n",
      "Processing Record 30 of Set 8 | lagoa\n",
      "Processing Record 31 of Set 8 | bratsk\n",
      "Processing Record 32 of Set 8 | libertador general san martin\n",
      "Processing Record 33 of Set 8 | angoche\n",
      "Processing Record 34 of Set 8 | belushya guba\n",
      "City not found. Skipping...\n",
      "Processing Record 35 of Set 8 | zabaykalsk\n",
      "Processing Record 36 of Set 8 | ibirataia\n",
      "Processing Record 37 of Set 8 | yulara\n",
      "Processing Record 38 of Set 8 | mwingi\n",
      "Processing Record 39 of Set 8 | port keats\n",
      "Processing Record 40 of Set 8 | greenville\n",
      "Processing Record 41 of Set 8 | kamenka\n",
      "Processing Record 42 of Set 8 | coihaique\n",
      "Processing Record 43 of Set 8 | san rafael\n",
      "Processing Record 44 of Set 8 | iberia\n",
      "Processing Record 45 of Set 8 | kavaratti\n",
      "Processing Record 46 of Set 8 | manono\n",
      "Processing Record 47 of Set 8 | alpena\n",
      "Processing Record 48 of Set 8 | samarai\n",
      "Processing Record 49 of Set 8 | port hawkesbury\n",
      "Processing Record 0 of Set 9 | toliary\n",
      "City not found. Skipping...\n",
      "Processing Record 1 of Set 9 | rassvet\n",
      "Processing Record 2 of Set 9 | tete\n",
      "Processing Record 3 of Set 9 | camana\n",
      "Processing Record 4 of Set 9 | luderitz\n",
      "Processing Record 5 of Set 9 | turukhansk\n",
      "Processing Record 6 of Set 9 | sheregesh\n",
      "Processing Record 7 of Set 9 | roura\n",
      "Processing Record 8 of Set 9 | kaohsiung\n",
      "Processing Record 9 of Set 9 | ixtapa\n",
      "Processing Record 10 of Set 9 | janakpur road\n",
      "City not found. Skipping...\n",
      "Processing Record 11 of Set 9 | grand centre\n",
      "City not found. Skipping...\n",
      "Processing Record 12 of Set 9 | formosa\n",
      "Processing Record 13 of Set 9 | aklavik\n",
      "Processing Record 14 of Set 9 | samusu\n",
      "City not found. Skipping...\n",
      "Processing Record 15 of Set 9 | roma\n",
      "Processing Record 16 of Set 9 | hilton head island\n",
      "Processing Record 17 of Set 9 | cayenne\n",
      "Processing Record 18 of Set 9 | talcahuano\n",
      "Processing Record 19 of Set 9 | naron\n",
      "Processing Record 20 of Set 9 | yefira\n",
      "City not found. Skipping...\n",
      "Processing Record 21 of Set 9 | richards bay\n",
      "Processing Record 22 of Set 9 | rutul\n",
      "Processing Record 23 of Set 9 | nagua\n",
      "Processing Record 24 of Set 9 | namtsy\n",
      "Processing Record 25 of Set 9 | petauke\n",
      "Processing Record 26 of Set 9 | nadym\n",
      "Processing Record 27 of Set 9 | rocha\n",
      "Processing Record 28 of Set 9 | villa maria\n",
      "Processing Record 29 of Set 9 | tuatapere\n",
      "Processing Record 30 of Set 9 | bacuit\n",
      "City not found. Skipping...\n",
      "Processing Record 31 of Set 9 | gornopravdinsk\n",
      "Processing Record 32 of Set 9 | meulaboh\n",
      "Processing Record 33 of Set 9 | visnes\n",
      "Processing Record 34 of Set 9 | benxi\n",
      "Processing Record 35 of Set 9 | azrow\n",
      "City not found. Skipping...\n",
      "Processing Record 36 of Set 9 | russell\n",
      "Processing Record 37 of Set 9 | neiafu\n",
      "Processing Record 38 of Set 9 | indian head\n",
      "Processing Record 39 of Set 9 | corner brook\n",
      "Processing Record 40 of Set 9 | muzquiz\n",
      "City not found. Skipping...\n",
      "Processing Record 41 of Set 9 | mayo\n",
      "Processing Record 42 of Set 9 | hearst\n",
      "Processing Record 43 of Set 9 | champerico\n",
      "Processing Record 44 of Set 9 | lorengau\n",
      "Processing Record 45 of Set 9 | skibbereen\n",
      "Processing Record 46 of Set 9 | chara\n",
      "Processing Record 47 of Set 9 | ilulissat\n",
      "Processing Record 48 of Set 9 | auki\n",
      "Processing Record 49 of Set 9 | labutta\n",
      "City not found. Skipping...\n",
      "Processing Record 0 of Set 10 | keetmanshoop\n",
      "Processing Record 1 of Set 10 | pochinok\n",
      "Processing Record 2 of Set 10 | rostaq\n",
      "City not found. Skipping...\n",
      "Processing Record 3 of Set 10 | kayes\n",
      "Processing Record 4 of Set 10 | ligayan\n",
      "Processing Record 5 of Set 10 | agirish\n",
      "Processing Record 6 of Set 10 | marovoay\n",
      "Processing Record 7 of Set 10 | bilma\n",
      "Processing Record 8 of Set 10 | kohat\n",
      "Processing Record 9 of Set 10 | warwick\n",
      "Processing Record 10 of Set 10 | katobu\n",
      "Processing Record 11 of Set 10 | yar-sale\n",
      "Processing Record 12 of Set 10 | northam\n",
      "Processing Record 13 of Set 10 | petropavlovsk-kamchatskiy\n",
      "Processing Record 14 of Set 10 | ostrovnoy\n",
      "Processing Record 15 of Set 10 | yerkoy\n",
      "Processing Record 16 of Set 10 | hami\n",
      "Processing Record 17 of Set 10 | san policarpo\n",
      "Processing Record 18 of Set 10 | gumusyaka\n",
      "City not found. Skipping...\n",
      "Processing Record 19 of Set 10 | campoverde\n",
      "Processing Record 20 of Set 10 | mayna\n",
      "Processing Record 21 of Set 10 | snasa\n",
      "Processing Record 22 of Set 10 | kieta\n",
      "Processing Record 23 of Set 10 | marcona\n",
      "City not found. Skipping...\n",
      "Processing Record 24 of Set 10 | boissevain\n",
      "Processing Record 25 of Set 10 | ahuimanu\n",
      "Processing Record 26 of Set 10 | gremyachinsk\n",
      "Processing Record 27 of Set 10 | urumqi\n",
      "Processing Record 28 of Set 10 | tilichiki\n",
      "Processing Record 29 of Set 10 | pecos\n",
      "Processing Record 30 of Set 10 | calama\n",
      "Processing Record 31 of Set 10 | atar\n",
      "Processing Record 32 of Set 10 | birao\n",
      "Processing Record 33 of Set 10 | mananjary\n",
      "Processing Record 34 of Set 10 | inhambane\n",
      "Processing Record 35 of Set 10 | tura\n",
      "Processing Record 36 of Set 10 | chihuahua\n",
      "Processing Record 37 of Set 10 | kaitangata\n",
      "Processing Record 38 of Set 10 | alihe\n",
      "Processing Record 39 of Set 10 | hobyo\n",
      "Processing Record 40 of Set 10 | calvinia\n",
      "Processing Record 41 of Set 10 | maloarkhangelsk\n",
      "Processing Record 42 of Set 10 | channel-port aux basques\n",
      "Processing Record 43 of Set 10 | lebyazhye\n",
      "Processing Record 44 of Set 10 | kutum\n",
      "Processing Record 45 of Set 10 | najran\n",
      "Processing Record 46 of Set 10 | balesti\n",
      "Processing Record 47 of Set 10 | riberalta\n",
      "Processing Record 48 of Set 10 | constitucion\n",
      "Processing Record 49 of Set 10 | huarmey\n",
      "Processing Record 0 of Set 11 | nantucket\n",
      "Processing Record 1 of Set 11 | miraflores\n",
      "Processing Record 2 of Set 11 | ereymentau\n",
      "Processing Record 3 of Set 11 | paradwip\n",
      "City not found. Skipping...\n",
      "Processing Record 4 of Set 11 | cantavir\n",
      "Processing Record 5 of Set 11 | santo antonio do taua\n",
      "Processing Record 6 of Set 11 | jhang\n",
      "Processing Record 7 of Set 11 | changying\n",
      "Processing Record 8 of Set 11 | namatanai\n",
      "Processing Record 9 of Set 11 | porbandar\n",
      "Processing Record 10 of Set 11 | rawlins\n",
      "Processing Record 11 of Set 11 | hovd\n",
      "Processing Record 12 of Set 11 | guarapari\n",
      "Processing Record 13 of Set 11 | cuauhtemoc\n",
      "Processing Record 14 of Set 11 | takoradi\n",
      "Processing Record 15 of Set 11 | ilo\n",
      "Processing Record 16 of Set 11 | tynda\n",
      "Processing Record 17 of Set 11 | massape\n",
      "Processing Record 18 of Set 11 | iqaluit\n",
      "Processing Record 19 of Set 11 | arys\n",
      "Processing Record 20 of Set 11 | dolinsk\n",
      "Processing Record 21 of Set 11 | sinnamary\n",
      "Processing Record 22 of Set 11 | ordynskoye\n",
      "Processing Record 23 of Set 11 | san lorenzo\n",
      "Processing Record 24 of Set 11 | tanshui\n",
      "City not found. Skipping...\n",
      "Processing Record 25 of Set 11 | shimoda\n",
      "Processing Record 26 of Set 11 | ketchikan\n",
      "Processing Record 27 of Set 11 | cascais\n",
      "Processing Record 28 of Set 11 | road town\n",
      "Processing Record 29 of Set 11 | progreso\n",
      "Processing Record 30 of Set 11 | yerbogachen\n",
      "Processing Record 31 of Set 11 | bardejov\n",
      "Processing Record 32 of Set 11 | sipoo\n",
      "Processing Record 33 of Set 11 | svetlogorsk\n",
      "Processing Record 34 of Set 11 | pemangkat\n",
      "Processing Record 35 of Set 11 | toamasina\n",
      "Processing Record 36 of Set 11 | ibra\n",
      "Processing Record 37 of Set 11 | key west\n",
      "Processing Record 38 of Set 11 | nyimba\n",
      "Processing Record 39 of Set 11 | morehead\n",
      "Processing Record 40 of Set 11 | pavlohrad\n",
      "Processing Record 41 of Set 11 | college\n",
      "Processing Record 42 of Set 11 | rafai\n",
      "Processing Record 43 of Set 11 | kolondieba\n",
      "Processing Record 44 of Set 11 | illela\n",
      "Processing Record 45 of Set 11 | hoghiz\n",
      "Processing Record 46 of Set 11 | domna\n",
      "Processing Record 47 of Set 11 | ossora\n",
      "Processing Record 48 of Set 11 | buariki\n",
      "City not found. Skipping...\n",
      "Processing Record 49 of Set 11 | seesen\n",
      "Processing Record 0 of Set 12 | moron\n",
      "Processing Record 1 of Set 12 | aksu\n",
      "Processing Record 2 of Set 12 | townsville\n",
      "Processing Record 3 of Set 12 | morondava\n",
      "Processing Record 4 of Set 12 | mitsamiouli\n",
      "Processing Record 5 of Set 12 | orumiyeh\n",
      "Processing Record 6 of Set 12 | staryy nadym\n",
      "Processing Record 7 of Set 12 | lapeer\n",
      "Processing Record 8 of Set 12 | maragogi\n",
      "Processing Record 9 of Set 12 | sioux lookout\n",
      "Processing Record 10 of Set 12 | cozumel\n",
      "Processing Record 11 of Set 12 | nago\n",
      "Processing Record 12 of Set 12 | milingimbi\n",
      "City not found. Skipping...\n",
      "Processing Record 13 of Set 12 | farafangana\n"
     ]
    },
    {
     "name": "stdout",
     "output_type": "stream",
     "text": [
      "Processing Record 14 of Set 12 | zyryanka\n",
      "Processing Record 15 of Set 12 | shache\n",
      "Processing Record 16 of Set 12 | kaniama\n",
      "Processing Record 17 of Set 12 | bushehr\n",
      "Processing Record 18 of Set 12 | umm lajj\n",
      "Processing Record 19 of Set 12 | pogana\n",
      "Processing Record 20 of Set 12 | general roca\n",
      "Processing Record 21 of Set 12 | verkhnevilyuysk\n",
      "Processing Record 22 of Set 12 | zhangjiakou\n",
      "Processing Record 23 of Set 12 | camacha\n",
      "Processing Record 24 of Set 12 | kotido\n",
      "Processing Record 25 of Set 12 | sao mateus do maranhao\n",
      "Processing Record 26 of Set 12 | akyab\n",
      "Processing Record 27 of Set 12 | vanimo\n",
      "Processing Record 28 of Set 12 | hudiksvall\n",
      "Processing Record 29 of Set 12 | vilhena\n",
      "Processing Record 30 of Set 12 | lazaro cardenas\n",
      "Processing Record 31 of Set 12 | sunbury\n",
      "Processing Record 32 of Set 12 | goure\n",
      "Processing Record 33 of Set 12 | henties bay\n",
      "Processing Record 34 of Set 12 | sinjar\n",
      "Processing Record 35 of Set 12 | zolotinka\n",
      "City not found. Skipping...\n",
      "Processing Record 36 of Set 12 | zhigalovo\n",
      "Processing Record 37 of Set 12 | mana\n",
      "Processing Record 38 of Set 12 | port-gentil\n",
      "Processing Record 39 of Set 12 | santa maria\n",
      "Processing Record 40 of Set 12 | asau\n",
      "Processing Record 41 of Set 12 | riyadh\n",
      "Processing Record 42 of Set 12 | manbij\n",
      "Processing Record 43 of Set 12 | rundu\n",
      "Processing Record 44 of Set 12 | masterton\n",
      "-----------------------------\n",
      "Data Retrieval Complete      \n",
      "-----------------------------\n"
     ]
    }
   ],
   "source": [
    "# Set the API base URL\n",
    "url = f\"http://api.openweathermap.org/data/2.5/weather?units=Imperial&APPID={weather_api_key}\"\n",
    "units = \"imperial\"\n",
    "# Define an empty list to fetch the weather data for each city\n",
    "city_data = []\n",
    "\n",
    "# Print to logger\n",
    "print(\"Beginning Data Retrieval     \")\n",
    "print(\"-----------------------------\")\n",
    "\n",
    "# Create counters\n",
    "record_count = 1\n",
    "set_count = 1\n",
    "\n",
    "# Loop through all the cities in our list to fetch weather data\n",
    "for i, city in enumerate(cities):\n",
    "        \n",
    "    # Group cities in sets of 50 for logging purposes\n",
    "    if (i % 50 == 0 and i >= 50):\n",
    "        set_count += 1\n",
    "        record_count = 0\n",
    "\n",
    "    # Create endpoint URL with each city\n",
    "    city_url = url + \"&q=\" + city\n",
    "    \n",
    "    # Log the url, record, and set numbers\n",
    "    print(\"Processing Record %s of Set %s | %s\" % (record_count, set_count, city))\n",
    "\n",
    "    # Add 1 to the record count\n",
    "    record_count += 1\n",
    "\n",
    "    # Run an API request for each of the cities\n",
    "    try:\n",
    "        # Parse the JSON and retrieve data\n",
    "        city_weather = requests.get(city_url).json()\n",
    "\n",
    "\n",
    "        # Parse out latitude, longitude, max temp, humidity, cloudiness, wind speed, country, and date\n",
    "        city_lat = city_weather['coord']['lat']\n",
    "        city_lng = city_weather['coord']['lon']\n",
    "        city_max_temp = city_weather['main']['temp_max']\n",
    "        city_humidity = city_weather['main']['humidity']\n",
    "        city_clouds = city_weather['clouds']['all']\n",
    "        city_wind = city_weather['wind']['speed']\n",
    "        city_country = city_weather['sys']['country']\n",
    "        city_date = city_weather['dt']\n",
    "\n",
    "        # Append the City information into city_data list\n",
    "        city_data.append({\"City\": city, \n",
    "                          \"Lat\": city_lat, \n",
    "                          \"Lng\": city_lng, \n",
    "                          \"Max Temp\": city_max_temp,\n",
    "                          \"Humidity\": city_humidity,\n",
    "                          \"Cloudiness\": city_clouds,\n",
    "                          \"Wind Speed\": city_wind,\n",
    "                          \"Country\": city_country,\n",
    "                          \"Date\": city_date})\n",
    "\n",
    "    # If an error is experienced, skip the city\n",
    "    except:\n",
    "        print(\"City not found. Skipping...\")\n",
    "        pass\n",
    "              \n",
    "# Indicate that Data Loading is complete \n",
    "print(\"-----------------------------\")\n",
    "print(\"Data Retrieval Complete      \")\n",
    "print(\"-----------------------------\")"
   ]
  },
  {
   "cell_type": "code",
   "execution_count": 9,
   "metadata": {},
   "outputs": [
    {
     "data": {
      "text/plain": [
       "City          545\n",
       "Lat           545\n",
       "Lng           545\n",
       "Max Temp      545\n",
       "Humidity      545\n",
       "Cloudiness    545\n",
       "Wind Speed    545\n",
       "Country       545\n",
       "Date          545\n",
       "dtype: int64"
      ]
     },
     "execution_count": 9,
     "metadata": {},
     "output_type": "execute_result"
    }
   ],
   "source": [
    "# Convert the cities weather data into a Pandas DataFrame\n",
    "city_data_df = pd.DataFrame(city_data)\n",
    "\n",
    "# Show Record Count\n",
    "city_data_df.count()"
   ]
  },
  {
   "cell_type": "code",
   "execution_count": 10,
   "metadata": {},
   "outputs": [
    {
     "data": {
      "text/html": [
       "<div>\n",
       "<style scoped>\n",
       "    .dataframe tbody tr th:only-of-type {\n",
       "        vertical-align: middle;\n",
       "    }\n",
       "\n",
       "    .dataframe tbody tr th {\n",
       "        vertical-align: top;\n",
       "    }\n",
       "\n",
       "    .dataframe thead th {\n",
       "        text-align: right;\n",
       "    }\n",
       "</style>\n",
       "<table border=\"1\" class=\"dataframe\">\n",
       "  <thead>\n",
       "    <tr style=\"text-align: right;\">\n",
       "      <th></th>\n",
       "      <th>City</th>\n",
       "      <th>Lat</th>\n",
       "      <th>Lng</th>\n",
       "      <th>Max Temp</th>\n",
       "      <th>Humidity</th>\n",
       "      <th>Cloudiness</th>\n",
       "      <th>Wind Speed</th>\n",
       "      <th>Country</th>\n",
       "      <th>Date</th>\n",
       "    </tr>\n",
       "  </thead>\n",
       "  <tbody>\n",
       "    <tr>\n",
       "      <th>0</th>\n",
       "      <td>lompoc</td>\n",
       "      <td>34.6391</td>\n",
       "      <td>-120.4579</td>\n",
       "      <td>61.52</td>\n",
       "      <td>90</td>\n",
       "      <td>100</td>\n",
       "      <td>6.91</td>\n",
       "      <td>US</td>\n",
       "      <td>1667860792</td>\n",
       "    </tr>\n",
       "    <tr>\n",
       "      <th>1</th>\n",
       "      <td>jamestown</td>\n",
       "      <td>42.0970</td>\n",
       "      <td>-79.2353</td>\n",
       "      <td>51.39</td>\n",
       "      <td>54</td>\n",
       "      <td>0</td>\n",
       "      <td>8.05</td>\n",
       "      <td>US</td>\n",
       "      <td>1667860792</td>\n",
       "    </tr>\n",
       "    <tr>\n",
       "      <th>2</th>\n",
       "      <td>te anau</td>\n",
       "      <td>-45.4167</td>\n",
       "      <td>167.7167</td>\n",
       "      <td>64.44</td>\n",
       "      <td>48</td>\n",
       "      <td>47</td>\n",
       "      <td>1.97</td>\n",
       "      <td>NZ</td>\n",
       "      <td>1667860793</td>\n",
       "    </tr>\n",
       "    <tr>\n",
       "      <th>3</th>\n",
       "      <td>tucuman</td>\n",
       "      <td>-26.8241</td>\n",
       "      <td>-65.2226</td>\n",
       "      <td>84.20</td>\n",
       "      <td>28</td>\n",
       "      <td>98</td>\n",
       "      <td>10.36</td>\n",
       "      <td>AR</td>\n",
       "      <td>1667860793</td>\n",
       "    </tr>\n",
       "    <tr>\n",
       "      <th>4</th>\n",
       "      <td>bambous virieux</td>\n",
       "      <td>-20.3428</td>\n",
       "      <td>57.7575</td>\n",
       "      <td>71.85</td>\n",
       "      <td>83</td>\n",
       "      <td>20</td>\n",
       "      <td>4.61</td>\n",
       "      <td>MU</td>\n",
       "      <td>1667860793</td>\n",
       "    </tr>\n",
       "  </tbody>\n",
       "</table>\n",
       "</div>"
      ],
      "text/plain": [
       "              City      Lat       Lng  Max Temp  Humidity  Cloudiness  \\\n",
       "0           lompoc  34.6391 -120.4579     61.52        90         100   \n",
       "1        jamestown  42.0970  -79.2353     51.39        54           0   \n",
       "2          te anau -45.4167  167.7167     64.44        48          47   \n",
       "3          tucuman -26.8241  -65.2226     84.20        28          98   \n",
       "4  bambous virieux -20.3428   57.7575     71.85        83          20   \n",
       "\n",
       "   Wind Speed Country        Date  \n",
       "0        6.91      US  1667860792  \n",
       "1        8.05      US  1667860792  \n",
       "2        1.97      NZ  1667860793  \n",
       "3       10.36      AR  1667860793  \n",
       "4        4.61      MU  1667860793  "
      ]
     },
     "execution_count": 10,
     "metadata": {},
     "output_type": "execute_result"
    }
   ],
   "source": [
    "# Display sample data\n",
    "city_data_df.head()\n"
   ]
  },
  {
   "cell_type": "code",
   "execution_count": 13,
   "metadata": {},
   "outputs": [],
   "source": [
    "# Export the City_Data into a csv\n",
    "city_data_df.to_csv(\"../output_data/cities.csv\", index_label=\"City_ID\")"
   ]
  },
  {
   "cell_type": "code",
   "execution_count": 14,
   "metadata": {},
   "outputs": [
    {
     "data": {
      "text/html": [
       "<div>\n",
       "<style scoped>\n",
       "    .dataframe tbody tr th:only-of-type {\n",
       "        vertical-align: middle;\n",
       "    }\n",
       "\n",
       "    .dataframe tbody tr th {\n",
       "        vertical-align: top;\n",
       "    }\n",
       "\n",
       "    .dataframe thead th {\n",
       "        text-align: right;\n",
       "    }\n",
       "</style>\n",
       "<table border=\"1\" class=\"dataframe\">\n",
       "  <thead>\n",
       "    <tr style=\"text-align: right;\">\n",
       "      <th></th>\n",
       "      <th>City</th>\n",
       "      <th>Lat</th>\n",
       "      <th>Lng</th>\n",
       "      <th>Max Temp</th>\n",
       "      <th>Humidity</th>\n",
       "      <th>Cloudiness</th>\n",
       "      <th>Wind Speed</th>\n",
       "      <th>Country</th>\n",
       "      <th>Date</th>\n",
       "    </tr>\n",
       "    <tr>\n",
       "      <th>City_ID</th>\n",
       "      <th></th>\n",
       "      <th></th>\n",
       "      <th></th>\n",
       "      <th></th>\n",
       "      <th></th>\n",
       "      <th></th>\n",
       "      <th></th>\n",
       "      <th></th>\n",
       "      <th></th>\n",
       "    </tr>\n",
       "  </thead>\n",
       "  <tbody>\n",
       "    <tr>\n",
       "      <th>0</th>\n",
       "      <td>faya</td>\n",
       "      <td>18.3851</td>\n",
       "      <td>42.4509</td>\n",
       "      <td>22.06</td>\n",
       "      <td>35</td>\n",
       "      <td>21</td>\n",
       "      <td>2.60</td>\n",
       "      <td>SA</td>\n",
       "      <td>1666108228</td>\n",
       "    </tr>\n",
       "    <tr>\n",
       "      <th>1</th>\n",
       "      <td>farsund</td>\n",
       "      <td>58.0948</td>\n",
       "      <td>6.8047</td>\n",
       "      <td>13.30</td>\n",
       "      <td>100</td>\n",
       "      <td>0</td>\n",
       "      <td>7.65</td>\n",
       "      <td>NO</td>\n",
       "      <td>1666108228</td>\n",
       "    </tr>\n",
       "    <tr>\n",
       "      <th>2</th>\n",
       "      <td>new norfolk</td>\n",
       "      <td>-42.7826</td>\n",
       "      <td>147.0587</td>\n",
       "      <td>11.72</td>\n",
       "      <td>58</td>\n",
       "      <td>12</td>\n",
       "      <td>1.34</td>\n",
       "      <td>AU</td>\n",
       "      <td>1666108230</td>\n",
       "    </tr>\n",
       "    <tr>\n",
       "      <th>3</th>\n",
       "      <td>jamestown</td>\n",
       "      <td>42.0970</td>\n",
       "      <td>-79.2353</td>\n",
       "      <td>5.77</td>\n",
       "      <td>77</td>\n",
       "      <td>100</td>\n",
       "      <td>9.77</td>\n",
       "      <td>US</td>\n",
       "      <td>1666107934</td>\n",
       "    </tr>\n",
       "    <tr>\n",
       "      <th>4</th>\n",
       "      <td>lanzhou</td>\n",
       "      <td>36.0564</td>\n",
       "      <td>103.7922</td>\n",
       "      <td>14.53</td>\n",
       "      <td>48</td>\n",
       "      <td>59</td>\n",
       "      <td>1.20</td>\n",
       "      <td>CN</td>\n",
       "      <td>1666108230</td>\n",
       "    </tr>\n",
       "  </tbody>\n",
       "</table>\n",
       "</div>"
      ],
      "text/plain": [
       "                City      Lat       Lng  Max Temp  Humidity  Cloudiness  \\\n",
       "City_ID                                                                   \n",
       "0               faya  18.3851   42.4509     22.06        35          21   \n",
       "1            farsund  58.0948    6.8047     13.30       100           0   \n",
       "2        new norfolk -42.7826  147.0587     11.72        58          12   \n",
       "3          jamestown  42.0970  -79.2353      5.77        77         100   \n",
       "4            lanzhou  36.0564  103.7922     14.53        48          59   \n",
       "\n",
       "         Wind Speed Country        Date  \n",
       "City_ID                                  \n",
       "0              2.60      SA  1666108228  \n",
       "1              7.65      NO  1666108228  \n",
       "2              1.34      AU  1666108230  \n",
       "3              9.77      US  1666107934  \n",
       "4              1.20      CN  1666108230  "
      ]
     },
     "execution_count": 14,
     "metadata": {},
     "output_type": "execute_result"
    }
   ],
   "source": [
    "# Read saved data\n",
    "city_data_df = pd.read_csv(\"../output_data/cities.csv\", index_col=\"City_ID\")\n",
    "\n",
    "# Display sample data\n",
    "city_data_df.head()"
   ]
  },
  {
   "cell_type": "markdown",
   "metadata": {},
   "source": [
    "### Create the Scatter Plots Requested\n",
    "\n",
    "#### Latitude Vs. Temperature"
   ]
  },
  {
   "cell_type": "code",
   "execution_count": 24,
   "metadata": {
    "tags": []
   },
   "outputs": [
    {
     "data": {
      "image/png": "[encoded data removed]",
      "text/plain": [
       "<Figure size 432x288 with 1 Axes>"
      ]
     },
     "metadata": {
      "needs_background": "light"
     },
     "output_type": "display_data"
    }
   ],
   "source": [
    "lats = city_data_df[\"Lat\"]\n",
    "max_temps = city_data_df[\"Max Temp\"]\n",
    "humidity = city_data_df[\"Humidity\"]\n",
    "cloudiness = city_data_df[\"Cloudiness\"]\n",
    "wind_speed = city_data_df[\"Wind Speed\"]\n",
    "\n",
    "# Build scatter plot for latitude vs. temperature\n",
    "plt.scatter(lats,\n",
    "            max_temps,\n",
    "           edgecolor=\"black\", linewidth=1, marker=\"o\",\n",
    "            label=\"Cities\")\n",
    "\n",
    "\n",
    "# Incorporate the other graph properties\n",
    "plt.title(\"City Latitude Vs. Max Temperature(%s)\" % time.strftime(\"%x\"))\n",
    "plt.ylabel(\"Max Temperature (C)\")\n",
    "plt.xlabel(\"Latitude\")\n",
    "plt.grid(True)\n",
    "\n",
    "# Save the figure\n",
    "plt.savefig(\"../output_data/Fig1.png\")\n",
    "\n",
    "# Show plot\n",
    "plt.show()"
   ]
  },
  {
   "cell_type": "markdown",
   "metadata": {},
   "source": [
    "#### Latitude Vs. Humidity"
   ]
  },
  {
   "cell_type": "code",
   "execution_count": 29,
   "metadata": {},
   "outputs": [
    {
     "data": {
      "image/png": "[encoded data removed]",
      "text/plain": [
       "<Figure size 432x288 with 1 Axes>"
      ]
     },
     "metadata": {
      "needs_background": "light"
     },
     "output_type": "display_data"
    }
   ],
   "source": [
    "# Build the scatter plots for latitude vs. humidity\n",
    "plt.scatter(lats,\n",
    "            humidity,\n",
    "           edgecolor=\"black\", linewidth=1, marker=\"o\",\n",
    "           label=\"Cities\")\n",
    "\n",
    "\n",
    "# Incorporate the other graph properties\n",
    "plt.title(\"City Latitude Vs. Humidity(%s)\" % time.strftime(\"%x\"))\n",
    "plt.ylabel(\"Humidity (%)\")\n",
    "plt.xlabel(\"Latitude\")\n",
    "plt.grid(True)\n",
    "\n",
    "# Save the figure\n",
    "plt.savefig(\"../output_data/Fig2.png\")\n",
    "\n",
    "# Show plot\n",
    "plt.show()"
   ]
  },
  {
   "cell_type": "markdown",
   "metadata": {},
   "source": [
    "#### Latitude Vs. Cloudiness"
   ]
  },
  {
   "cell_type": "code",
   "execution_count": 28,
   "metadata": {},
   "outputs": [
    {
     "data": {
      "image/png": "[encoded data removed]",
      "text/plain": [
       "<Figure size 432x288 with 1 Axes>"
      ]
     },
     "metadata": {
      "needs_background": "light"
     },
     "output_type": "display_data"
    }
   ],
   "source": [
    "# Build the scatter plots for latitude vs. cloudiness\n",
    "plt.scatter(lats,\n",
    "            cloudiness,\n",
    "           edgecolor=\"black\", linewidth=1, marker=\"o\",\n",
    "            label=\"Cities\")\n",
    "\n",
    "# Incorporate the other graph properties\n",
    "plt.title(\"City Latitude Vs. Cloudiness(%s)\" % time.strftime(\"%x\"))\n",
    "plt.ylabel(\"Cloudiness (%)\")\n",
    "plt.xlabel(\"Latitude\")\n",
    "plt.grid(True)\n",
    "\n",
    "\n",
    "# Save the figure\n",
    "plt.savefig(\"../output_data/Fig3.png\")\n",
    "\n",
    "# Show plot\n",
    "plt.show()"
   ]
  },
  {
   "cell_type": "markdown",
   "metadata": {},
   "source": [
    "#### Latitude vs. Wind Speed Plot"
   ]
  },
  {
   "cell_type": "code",
   "execution_count": 30,
   "metadata": {},
   "outputs": [
    {
     "data": {
      "image/png": "[encoded data removed]",
      "text/plain": [
       "<Figure size 432x288 with 1 Axes>"
      ]
     },
     "metadata": {
      "needs_background": "light"
     },
     "output_type": "display_data"
    }
   ],
   "source": [
    "# Build the scatter plots for latitude vs. wind speed\n",
    "plt.scatter(lats,\n",
    "            wind_speed,\n",
    "           edgecolor=\"black\", linewidth=1, marker=\"o\",\n",
    "           alpha=0.8, label=\"Cities\")\n",
    "\n",
    "# Incorporate the other graph properties\n",
    "plt.title(\"City Latitude Vs. Wind Speed(%s)\" % time.strftime(\"%x\"))\n",
    "plt.ylabel(\"Windspeed mph\")\n",
    "plt.xlabel(\"Latitude\")\n",
    "plt.grid(True)\n",
    "\n",
    "# Save the figure\n",
    "plt.savefig(\"../output_data/Fig4.png\")\n",
    "\n",
    "# Show plot\n",
    "plt.show()"
   ]
  },
  {
   "cell_type": "markdown",
   "metadata": {},
   "source": [
    "---\n",
    "\n",
    "## Requirement 2: Compute Linear Regression for Each Relationship\n"
   ]
  },
  {
   "cell_type": "code",
   "execution_count": 31,
   "metadata": {},
   "outputs": [],
   "source": [
    "# Define a function to create Linear Regression plots\n",
    "# YOUR CODE HERE"
   ]
  },
  {
   "cell_type": "code",
   "execution_count": 35,
   "metadata": {},
   "outputs": [
    {
     "data": {
      "text/html": [
       "<div>\n",
       "<style scoped>\n",
       "    .dataframe tbody tr th:only-of-type {\n",
       "        vertical-align: middle;\n",
       "    }\n",
       "\n",
       "    .dataframe tbody tr th {\n",
       "        vertical-align: top;\n",
       "    }\n",
       "\n",
       "    .dataframe thead th {\n",
       "        text-align: right;\n",
       "    }\n",
       "</style>\n",
       "<table border=\"1\" class=\"dataframe\">\n",
       "  <thead>\n",
       "    <tr style=\"text-align: right;\">\n",
       "      <th></th>\n",
       "      <th>City</th>\n",
       "      <th>Lat</th>\n",
       "      <th>Lng</th>\n",
       "      <th>Max Temp</th>\n",
       "      <th>Humidity</th>\n",
       "      <th>Cloudiness</th>\n",
       "      <th>Wind Speed</th>\n",
       "      <th>Country</th>\n",
       "      <th>Date</th>\n",
       "    </tr>\n",
       "    <tr>\n",
       "      <th>City_ID</th>\n",
       "      <th></th>\n",
       "      <th></th>\n",
       "      <th></th>\n",
       "      <th></th>\n",
       "      <th></th>\n",
       "      <th></th>\n",
       "      <th></th>\n",
       "      <th></th>\n",
       "      <th></th>\n",
       "    </tr>\n",
       "  </thead>\n",
       "  <tbody>\n",
       "    <tr>\n",
       "      <th>0</th>\n",
       "      <td>faya</td>\n",
       "      <td>18.3851</td>\n",
       "      <td>42.4509</td>\n",
       "      <td>22.06</td>\n",
       "      <td>35</td>\n",
       "      <td>21</td>\n",
       "      <td>2.60</td>\n",
       "      <td>SA</td>\n",
       "      <td>1666108228</td>\n",
       "    </tr>\n",
       "    <tr>\n",
       "      <th>1</th>\n",
       "      <td>farsund</td>\n",
       "      <td>58.0948</td>\n",
       "      <td>6.8047</td>\n",
       "      <td>13.30</td>\n",
       "      <td>100</td>\n",
       "      <td>0</td>\n",
       "      <td>7.65</td>\n",
       "      <td>NO</td>\n",
       "      <td>1666108228</td>\n",
       "    </tr>\n",
       "    <tr>\n",
       "      <th>3</th>\n",
       "      <td>jamestown</td>\n",
       "      <td>42.0970</td>\n",
       "      <td>-79.2353</td>\n",
       "      <td>5.77</td>\n",
       "      <td>77</td>\n",
       "      <td>100</td>\n",
       "      <td>9.77</td>\n",
       "      <td>US</td>\n",
       "      <td>1666107934</td>\n",
       "    </tr>\n",
       "    <tr>\n",
       "      <th>4</th>\n",
       "      <td>lanzhou</td>\n",
       "      <td>36.0564</td>\n",
       "      <td>103.7922</td>\n",
       "      <td>14.53</td>\n",
       "      <td>48</td>\n",
       "      <td>59</td>\n",
       "      <td>1.20</td>\n",
       "      <td>CN</td>\n",
       "      <td>1666108230</td>\n",
       "    </tr>\n",
       "    <tr>\n",
       "      <th>6</th>\n",
       "      <td>albany</td>\n",
       "      <td>42.6001</td>\n",
       "      <td>-73.9662</td>\n",
       "      <td>10.36</td>\n",
       "      <td>74</td>\n",
       "      <td>29</td>\n",
       "      <td>2.10</td>\n",
       "      <td>US</td>\n",
       "      <td>1666108231</td>\n",
       "    </tr>\n",
       "  </tbody>\n",
       "</table>\n",
       "</div>"
      ],
      "text/plain": [
       "              City      Lat       Lng  Max Temp  Humidity  Cloudiness  \\\n",
       "City_ID                                                                 \n",
       "0             faya  18.3851   42.4509     22.06        35          21   \n",
       "1          farsund  58.0948    6.8047     13.30       100           0   \n",
       "3        jamestown  42.0970  -79.2353      5.77        77         100   \n",
       "4          lanzhou  36.0564  103.7922     14.53        48          59   \n",
       "6           albany  42.6001  -73.9662     10.36        74          29   \n",
       "\n",
       "         Wind Speed Country        Date  \n",
       "City_ID                                  \n",
       "0              2.60      SA  1666108228  \n",
       "1              7.65      NO  1666108228  \n",
       "3              9.77      US  1666107934  \n",
       "4              1.20      CN  1666108230  \n",
       "6              2.10      US  1666108231  "
      ]
     },
     "execution_count": 35,
     "metadata": {},
     "output_type": "execute_result"
    }
   ],
   "source": [
    "# Create a DataFrame with the Northern Hemisphere data (Latitude >= 0)\n",
    "northern_hemi_df = city_data_df.loc[pd.to_numeric(city_data_df[\"Lat\"]).astype(float) > 0, :]\n",
    "\n",
    "# Display sample data\n",
    "northern_hemi_df.head()"
   ]
  },
  {
   "cell_type": "code",
   "execution_count": 36,
   "metadata": {},
   "outputs": [
    {
     "data": {
      "text/html": [
       "<div>\n",
       "<style scoped>\n",
       "    .dataframe tbody tr th:only-of-type {\n",
       "        vertical-align: middle;\n",
       "    }\n",
       "\n",
       "    .dataframe tbody tr th {\n",
       "        vertical-align: top;\n",
       "    }\n",
       "\n",
       "    .dataframe thead th {\n",
       "        text-align: right;\n",
       "    }\n",
       "</style>\n",
       "<table border=\"1\" class=\"dataframe\">\n",
       "  <thead>\n",
       "    <tr style=\"text-align: right;\">\n",
       "      <th></th>\n",
       "      <th>City</th>\n",
       "      <th>Lat</th>\n",
       "      <th>Lng</th>\n",
       "      <th>Max Temp</th>\n",
       "      <th>Humidity</th>\n",
       "      <th>Cloudiness</th>\n",
       "      <th>Wind Speed</th>\n",
       "      <th>Country</th>\n",
       "      <th>Date</th>\n",
       "    </tr>\n",
       "    <tr>\n",
       "      <th>City_ID</th>\n",
       "      <th></th>\n",
       "      <th></th>\n",
       "      <th></th>\n",
       "      <th></th>\n",
       "      <th></th>\n",
       "      <th></th>\n",
       "      <th></th>\n",
       "      <th></th>\n",
       "      <th></th>\n",
       "    </tr>\n",
       "  </thead>\n",
       "  <tbody>\n",
       "    <tr>\n",
       "      <th>2</th>\n",
       "      <td>new norfolk</td>\n",
       "      <td>-42.7826</td>\n",
       "      <td>147.0587</td>\n",
       "      <td>11.72</td>\n",
       "      <td>58</td>\n",
       "      <td>12</td>\n",
       "      <td>1.34</td>\n",
       "      <td>AU</td>\n",
       "      <td>1666108230</td>\n",
       "    </tr>\n",
       "    <tr>\n",
       "      <th>5</th>\n",
       "      <td>ushuaia</td>\n",
       "      <td>-54.8000</td>\n",
       "      <td>-68.3000</td>\n",
       "      <td>8.81</td>\n",
       "      <td>81</td>\n",
       "      <td>75</td>\n",
       "      <td>3.09</td>\n",
       "      <td>AR</td>\n",
       "      <td>1666108231</td>\n",
       "    </tr>\n",
       "    <tr>\n",
       "      <th>7</th>\n",
       "      <td>carnarvon</td>\n",
       "      <td>-24.8667</td>\n",
       "      <td>113.6333</td>\n",
       "      <td>20.02</td>\n",
       "      <td>76</td>\n",
       "      <td>0</td>\n",
       "      <td>7.46</td>\n",
       "      <td>AU</td>\n",
       "      <td>1666108232</td>\n",
       "    </tr>\n",
       "    <tr>\n",
       "      <th>9</th>\n",
       "      <td>saint-pierre</td>\n",
       "      <td>-21.3393</td>\n",
       "      <td>55.4781</td>\n",
       "      <td>22.82</td>\n",
       "      <td>68</td>\n",
       "      <td>0</td>\n",
       "      <td>5.14</td>\n",
       "      <td>RE</td>\n",
       "      <td>1666108236</td>\n",
       "    </tr>\n",
       "    <tr>\n",
       "      <th>10</th>\n",
       "      <td>colorado</td>\n",
       "      <td>-22.8375</td>\n",
       "      <td>-51.9731</td>\n",
       "      <td>20.36</td>\n",
       "      <td>86</td>\n",
       "      <td>96</td>\n",
       "      <td>4.69</td>\n",
       "      <td>BR</td>\n",
       "      <td>1666107965</td>\n",
       "    </tr>\n",
       "  </tbody>\n",
       "</table>\n",
       "</div>"
      ],
      "text/plain": [
       "                 City      Lat       Lng  Max Temp  Humidity  Cloudiness  \\\n",
       "City_ID                                                                    \n",
       "2         new norfolk -42.7826  147.0587     11.72        58          12   \n",
       "5             ushuaia -54.8000  -68.3000      8.81        81          75   \n",
       "7           carnarvon -24.8667  113.6333     20.02        76           0   \n",
       "9        saint-pierre -21.3393   55.4781     22.82        68           0   \n",
       "10           colorado -22.8375  -51.9731     20.36        86          96   \n",
       "\n",
       "         Wind Speed Country        Date  \n",
       "City_ID                                  \n",
       "2              1.34      AU  1666108230  \n",
       "5              3.09      AR  1666108231  \n",
       "7              7.46      AU  1666108232  \n",
       "9              5.14      RE  1666108236  \n",
       "10             4.69      BR  1666107965  "
      ]
     },
     "execution_count": 36,
     "metadata": {},
     "output_type": "execute_result"
    }
   ],
   "source": [
    "# Create a DataFrame with the Southern Hemisphere data (Latitude < 0)\n",
    "southern_hemi_df = city_data_df.loc[pd.to_numeric(city_data_df[\"Lat\"]).astype(float) < 0, :]\n",
    "\n",
    "# Display sample data\n",
    "southern_hemi_df.head()"
   ]
  },
  {
   "cell_type": "markdown",
   "metadata": {},
   "source": [
    "###  Temperature vs. Latitude Linear Regression Plot"
   ]
  },
  {
   "cell_type": "code",
   "execution_count": 38,
   "metadata": {},
   "outputs": [
    {
     "name": "stdout",
     "output_type": "stream",
     "text": [
      "The r-squared is: -0.8462548186825359\n"
     ]
    },
    {
     "data": {
      "image/png": "[encoded data removed]",
      "text/plain": [
       "<Figure size 432x288 with 1 Axes>"
      ]
     },
     "metadata": {
      "needs_background": "light"
     },
     "output_type": "display_data"
    }
   ],
   "source": [
    "x_values = northern_hemi_df [\"Lat\"]\n",
    "y_values = northern_hemi_df [\"Max Temp\"]\n",
    "plot_linear_regression(x_values,y_values, 'Max Temp', (6,-5))"
   ]
  },
  {
   "cell_type": "code",
   "execution_count": 40,
   "metadata": {},
   "outputs": [
    {
     "name": "stdout",
     "output_type": "stream",
     "text": [
      "The r-squared is: 0.6419546065421795\n"
     ]
    },
    {
     "data": {
      "image/png": "[encoded data removed]",
      "text/plain": [
       "<Figure size 432x288 with 1 Axes>"
      ]
     },
     "metadata": {
      "needs_background": "light"
     },
     "output_type": "display_data"
    }
   ],
   "source": [
    "# Linear regression on Southern Hemisphere\n",
    "x_values = southern_hemi_df [\"Lat\"]\n",
    "y_values = southern_hemi_df [\"Max Temp\"]\n",
    "plot_linear_regression(x_values,y_values, 'Max Temp', (-50,35))"
   ]
  },
  {
   "cell_type": "markdown",
   "metadata": {},
   "source": [
    "**Discussion about the linear relationship:** There's a strong negative correlation between temperature and latitude in the northern hemisphere. Whereas, there's a moderately strong positive correlation between temperature and latitude in the southern hemisphere. "
   ]
  },
  {
   "cell_type": "markdown",
   "metadata": {},
   "source": [
    "### Humidity vs. Latitude Linear Regression Plot"
   ]
  },
  {
   "cell_type": "code",
   "execution_count": 41,
   "metadata": {},
   "outputs": [
    {
     "name": "stdout",
     "output_type": "stream",
     "text": [
      "The r-squared is: 0.23853179129394048\n"
     ]
    },
    {
     "data": {
      "image/png": "[encoded data removed]",
      "text/plain": [
       "<Figure size 432x288 with 1 Axes>"
      ]
     },
     "metadata": {
      "needs_background": "light"
     },
     "output_type": "display_data"
    }
   ],
   "source": [
    "# Northern Hemisphere\n",
    "x_values = northern_hemi_df [\"Lat\"]\n",
    "y_values = northern_hemi_df [\"Humidity\"]\n",
    "plot_linear_regression(x_values,y_values, 'Humidity', (40,10))"
   ]
  },
  {
   "cell_type": "code",
   "execution_count": 44,
   "metadata": {},
   "outputs": [
    {
     "name": "stdout",
     "output_type": "stream",
     "text": [
      "The r-squared is: 0.016759316950056787\n"
     ]
    },
    {
     "data": {
      "image/png": "[encoded data removed]",
      "text/plain": [
       "<Figure size 432x288 with 1 Axes>"
      ]
     },
     "metadata": {
      "needs_background": "light"
     },
     "output_type": "display_data"
    }
   ],
   "source": [
    "# Southern Hemisphere\n",
    "x_values = southern_hemi_df [\"Lat\"]\n",
    "y_values = southern_hemi_df [\"Humidity\"]\n",
    "plot_linear_regression(x_values,y_values, 'Humidity', (-20,20))"
   ]
  },
  {
   "cell_type": "markdown",
   "metadata": {},
   "source": [
    "**Discussion about the linear relationship:** There is a weak correlation in both hemispheres between humidity and latitude"
   ]
  },
  {
   "cell_type": "markdown",
   "metadata": {},
   "source": [
    "### Cloudiness vs. Latitude Linear Regression Plot"
   ]
  },
  {
   "cell_type": "code",
   "execution_count": 47,
   "metadata": {},
   "outputs": [
    {
     "name": "stdout",
     "output_type": "stream",
     "text": [
      "The r-squared is: 0.15500489387697092\n"
     ]
    },
    {
     "data": {
      "image/png": "[encoded data removed]",
      "text/plain": [
       "<Figure size 432x288 with 1 Axes>"
      ]
     },
     "metadata": {
      "needs_background": "light"
     },
     "output_type": "display_data"
    }
   ],
   "source": [
    "# Northern Hemisphere\n",
    "x_values = northern_hemi_df [\"Lat\"]\n",
    "y_values = northern_hemi_df [\"Cloudiness\"]\n",
    "plot_linear_regression(x_values,y_values, 'Cloudiness', (50,5))"
   ]
  },
  {
   "cell_type": "code",
   "execution_count": 48,
   "metadata": {},
   "outputs": [
    {
     "name": "stdout",
     "output_type": "stream",
     "text": [
      "The r-squared is: 0.14341322916643248\n"
     ]
    },
    {
     "data": {
      "image/png": "[encoded data removed]",
      "text/plain": [
       "<Figure size 432x288 with 1 Axes>"
      ]
     },
     "metadata": {
      "needs_background": "light"
     },
     "output_type": "display_data"
    }
   ],
   "source": [
    "# Southern Hemisphere\n",
    "x_values = southern_hemi_df [\"Lat\"]\n",
    "y_values = southern_hemi_df [\"Cloudiness\"]\n",
    "plot_linear_regression(x_values,y_values, 'Cloudiness', (-55,20))"
   ]
  },
  {
   "cell_type": "markdown",
   "metadata": {},
   "source": [
    "**Discussion about the linear relationship:** There's also a weak correlation between latitude and cloudiness in both hemispheres."
   ]
  },
  {
   "cell_type": "markdown",
   "metadata": {},
   "source": [
    "### Wind Speed vs. Latitude Linear Regression Plot"
   ]
  },
  {
   "cell_type": "code",
   "execution_count": 52,
   "metadata": {},
   "outputs": [
    {
     "name": "stdout",
     "output_type": "stream",
     "text": [
      "The r-squared is: 0.17434667290903336\n"
     ]
    },
    {
     "data": {
      "image/png": "[encoded data removed]",
      "text/plain": [
       "<Figure size 432x288 with 1 Axes>"
      ]
     },
     "metadata": {
      "needs_background": "light"
     },
     "output_type": "display_data"
    }
   ],
   "source": [
    "# Northern Hemisphere\n",
    "x_values = northern_hemi_df [\"Lat\"]\n",
    "y_values = northern_hemi_df [\"Wind Speed\"]\n",
    "plot_linear_regression(x_values,y_values, 'Wind Speed', (0,13))"
   ]
  },
  {
   "cell_type": "code",
   "execution_count": 56,
   "metadata": {},
   "outputs": [
    {
     "name": "stdout",
     "output_type": "stream",
     "text": [
      "The r-squared is: -0.2494775354626458\n"
     ]
    },
    {
     "data": {
      "image/png": "[encoded data removed]",
      "text/plain": [
       "<Figure size 432x288 with 1 Axes>"
      ]
     },
     "metadata": {
      "needs_background": "light"
     },
     "output_type": "display_data"
    }
   ],
   "source": [
    "# Southern Hemisphere\n",
    "x_values = southern_hemi_df [\"Lat\"]\n",
    "y_values = southern_hemi_df [\"Wind Speed\"]\n",
    "plot_linear_regression(x_values,y_values, 'Wind Speed', (-25,13))"
   ]
  },
  {
   "cell_type": "markdown",
   "metadata": {},
   "source": [
    "**Discussion about the linear relationship:** There's a weak positive correlation between windspeed and latitude in the northern hemisphere and a weak negative correlation in the southern hemisphere"
   ]
  },
  {
   "cell_type": "code",
   "execution_count": null,
   "metadata": {},
   "outputs": [],
   "source": []
  }
 ],
 "metadata": {
  "anaconda-cloud": {},
  "kernel_info": {
   "name": "python3"
  },
  "kernelspec": {
   "display_name": "Python [conda env:pythondata] *",
   "language": "python",
   "name": "conda-env-pythondata-py"
  },
  "language_info": {
   "codemirror_mode": {
    "name": "ipython",
    "version": 3
   },
   "file_extension": ".py",
   "mimetype": "text/x-python",
   "name": "python",
   "nbconvert_exporter": "python",
   "pygments_lexer": "ipython3",
   "version": "3.6.10"
  },
  "latex_envs": {
   "LaTeX_envs_menu_present": true,
   "autoclose": false,
   "autocomplete": true,
   "bibliofile": "biblio.bib",
   "cite_by": "apalike",
   "current_citInitial": 1,
   "eqLabelWithNumbers": true,
   "eqNumInitial": 1,
   "hotkeys": {
    "equation": "Ctrl-E",
    "itemize": "Ctrl-I"
   },
   "labels_anchors": false,
   "latex_user_defs": false,
   "report_style_numbering": false,
   "user_envs_cfg": false
  },
  "nteract": {
   "version": "0.12.3"
  }
 },
 "nbformat": 4,
 "nbformat_minor": 4
}
